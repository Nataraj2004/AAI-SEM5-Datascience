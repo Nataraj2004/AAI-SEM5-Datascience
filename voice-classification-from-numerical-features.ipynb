{
 "cells": [
  {
   "cell_type": "markdown",
   "id": "62de6195",
   "metadata": {
    "papermill": {
     "duration": 0.014361,
     "end_time": "2022-08-28T09:14:15.492787",
     "exception": false,
     "start_time": "2022-08-28T09:14:15.478426",
     "status": "completed"
    },
    "tags": []
   },
   "source": [
    "# Gender Recognition Based on numerical attributes/features of Voice  "
   ]
  },
  {
   "cell_type": "markdown",
   "id": "efa3e401",
   "metadata": {
    "papermill": {
     "duration": 0.012256,
     "end_time": "2022-08-28T09:14:15.517952",
     "exception": false,
     "start_time": "2022-08-28T09:14:15.505696",
     "status": "completed"
    },
    "tags": []
   },
   "source": [
    "# **Problem statement:**\n",
    "### Create a classification model to predict the gender (male or female) based on different  parameters\n"
   ]
  },
  {
   "cell_type": "code",
   "execution_count": 1,
   "id": "28b4e7ce",
   "metadata": {
    "execution": {
     "iopub.execute_input": "2022-08-28T09:14:15.598384Z",
     "iopub.status.busy": "2022-08-28T09:14:15.597884Z",
     "iopub.status.idle": "2022-08-28T09:14:17.436173Z",
     "shell.execute_reply": "2022-08-28T09:14:17.434616Z"
    },
    "papermill": {
     "duration": 1.856242,
     "end_time": "2022-08-28T09:14:17.439514",
     "exception": false,
     "start_time": "2022-08-28T09:14:15.583272",
     "status": "completed"
    },
    "tags": []
   },
   "outputs": [],
   "source": [
    "import pandas as pd\n",
    "import numpy as np\n",
    "import matplotlib.pyplot as plt\n",
    "import seaborn as sns\n",
    "import sklearn.model_selection, sklearn.linear_model, sklearn.svm, sklearn.metrics\n",
    "from sklearn.tree import DecisionTreeClassifier\n",
    "from sklearn.ensemble import RandomForestClassifier\n",
    "from sklearn.linear_model import LogisticRegression\n",
    "from sklearn.neighbors import KNeighborsClassifier\n",
    "from sklearn.gaussian_process import GaussianProcessClassifier\n",
    "from sklearn.svm import SVC"
   ]
  },
  {
   "cell_type": "code",
   "execution_count": 2,
   "id": "bb0852c5",
   "metadata": {
    "execution": {
     "iopub.execute_input": "2022-08-28T09:14:17.493315Z",
     "iopub.status.busy": "2022-08-28T09:14:17.492811Z",
     "iopub.status.idle": "2022-08-28T09:14:17.504542Z",
     "shell.execute_reply": "2022-08-28T09:14:17.503184Z"
    },
    "papermill": {
     "duration": 0.029115,
     "end_time": "2022-08-28T09:14:17.507589",
     "exception": false,
     "start_time": "2022-08-28T09:14:17.478474",
     "status": "completed"
    },
    "tags": []
   },
   "outputs": [
    {
     "name": "stdout",
     "output_type": "stream",
     "text": [
      "/kaggle/input/voicegender/voice.csv\n"
     ]
    }
   ],
   "source": [
    "import os\n",
    "for dirname, _, filenames in os.walk('/kaggle/input'):\n",
    "    for filename in filenames:\n",
    "        print(os.path.join(dirname, filename))"
   ]
  },
  {
   "cell_type": "code",
   "execution_count": 3,
   "id": "491499cd",
   "metadata": {
    "execution": {
     "iopub.execute_input": "2022-08-28T09:14:17.536372Z",
     "iopub.status.busy": "2022-08-28T09:14:17.535008Z",
     "iopub.status.idle": "2022-08-28T09:14:17.604389Z",
     "shell.execute_reply": "2022-08-28T09:14:17.602900Z"
    },
    "papermill": {
     "duration": 0.0865,
     "end_time": "2022-08-28T09:14:17.607264",
     "exception": false,
     "start_time": "2022-08-28T09:14:17.520764",
     "status": "completed"
    },
    "tags": []
   },
   "outputs": [],
   "source": [
    "df = pd.read_csv('/kaggle/input/voicegender/voice.csv')"
   ]
  },
  {
   "cell_type": "code",
   "execution_count": 4,
   "id": "c341686b",
   "metadata": {
    "execution": {
     "iopub.execute_input": "2022-08-28T09:14:17.635517Z",
     "iopub.status.busy": "2022-08-28T09:14:17.634817Z",
     "iopub.status.idle": "2022-08-28T09:14:17.676180Z",
     "shell.execute_reply": "2022-08-28T09:14:17.674669Z"
    },
    "papermill": {
     "duration": 0.058832,
     "end_time": "2022-08-28T09:14:17.679005",
     "exception": false,
     "start_time": "2022-08-28T09:14:17.620173",
     "status": "completed"
    },
    "tags": []
   },
   "outputs": [
    {
     "data": {
      "text/html": [
       "<div>\n",
       "<style scoped>\n",
       "    .dataframe tbody tr th:only-of-type {\n",
       "        vertical-align: middle;\n",
       "    }\n",
       "\n",
       "    .dataframe tbody tr th {\n",
       "        vertical-align: top;\n",
       "    }\n",
       "\n",
       "    .dataframe thead th {\n",
       "        text-align: right;\n",
       "    }\n",
       "</style>\n",
       "<table border=\"1\" class=\"dataframe\">\n",
       "  <thead>\n",
       "    <tr style=\"text-align: right;\">\n",
       "      <th></th>\n",
       "      <th>meanfreq</th>\n",
       "      <th>sd</th>\n",
       "      <th>median</th>\n",
       "      <th>Q25</th>\n",
       "      <th>Q75</th>\n",
       "      <th>IQR</th>\n",
       "      <th>skew</th>\n",
       "      <th>kurt</th>\n",
       "      <th>sp.ent</th>\n",
       "      <th>sfm</th>\n",
       "      <th>...</th>\n",
       "      <th>centroid</th>\n",
       "      <th>meanfun</th>\n",
       "      <th>minfun</th>\n",
       "      <th>maxfun</th>\n",
       "      <th>meandom</th>\n",
       "      <th>mindom</th>\n",
       "      <th>maxdom</th>\n",
       "      <th>dfrange</th>\n",
       "      <th>modindx</th>\n",
       "      <th>label</th>\n",
       "    </tr>\n",
       "  </thead>\n",
       "  <tbody>\n",
       "    <tr>\n",
       "      <th>0</th>\n",
       "      <td>0.059781</td>\n",
       "      <td>0.064241</td>\n",
       "      <td>0.032027</td>\n",
       "      <td>0.015071</td>\n",
       "      <td>0.090193</td>\n",
       "      <td>0.075122</td>\n",
       "      <td>12.863462</td>\n",
       "      <td>274.402906</td>\n",
       "      <td>0.893369</td>\n",
       "      <td>0.491918</td>\n",
       "      <td>...</td>\n",
       "      <td>0.059781</td>\n",
       "      <td>0.084279</td>\n",
       "      <td>0.015702</td>\n",
       "      <td>0.275862</td>\n",
       "      <td>0.007812</td>\n",
       "      <td>0.007812</td>\n",
       "      <td>0.007812</td>\n",
       "      <td>0.000000</td>\n",
       "      <td>0.000000</td>\n",
       "      <td>male</td>\n",
       "    </tr>\n",
       "    <tr>\n",
       "      <th>1</th>\n",
       "      <td>0.066009</td>\n",
       "      <td>0.067310</td>\n",
       "      <td>0.040229</td>\n",
       "      <td>0.019414</td>\n",
       "      <td>0.092666</td>\n",
       "      <td>0.073252</td>\n",
       "      <td>22.423285</td>\n",
       "      <td>634.613855</td>\n",
       "      <td>0.892193</td>\n",
       "      <td>0.513724</td>\n",
       "      <td>...</td>\n",
       "      <td>0.066009</td>\n",
       "      <td>0.107937</td>\n",
       "      <td>0.015826</td>\n",
       "      <td>0.250000</td>\n",
       "      <td>0.009014</td>\n",
       "      <td>0.007812</td>\n",
       "      <td>0.054688</td>\n",
       "      <td>0.046875</td>\n",
       "      <td>0.052632</td>\n",
       "      <td>male</td>\n",
       "    </tr>\n",
       "    <tr>\n",
       "      <th>2</th>\n",
       "      <td>0.077316</td>\n",
       "      <td>0.083829</td>\n",
       "      <td>0.036718</td>\n",
       "      <td>0.008701</td>\n",
       "      <td>0.131908</td>\n",
       "      <td>0.123207</td>\n",
       "      <td>30.757155</td>\n",
       "      <td>1024.927705</td>\n",
       "      <td>0.846389</td>\n",
       "      <td>0.478905</td>\n",
       "      <td>...</td>\n",
       "      <td>0.077316</td>\n",
       "      <td>0.098706</td>\n",
       "      <td>0.015656</td>\n",
       "      <td>0.271186</td>\n",
       "      <td>0.007990</td>\n",
       "      <td>0.007812</td>\n",
       "      <td>0.015625</td>\n",
       "      <td>0.007812</td>\n",
       "      <td>0.046512</td>\n",
       "      <td>male</td>\n",
       "    </tr>\n",
       "    <tr>\n",
       "      <th>3</th>\n",
       "      <td>0.151228</td>\n",
       "      <td>0.072111</td>\n",
       "      <td>0.158011</td>\n",
       "      <td>0.096582</td>\n",
       "      <td>0.207955</td>\n",
       "      <td>0.111374</td>\n",
       "      <td>1.232831</td>\n",
       "      <td>4.177296</td>\n",
       "      <td>0.963322</td>\n",
       "      <td>0.727232</td>\n",
       "      <td>...</td>\n",
       "      <td>0.151228</td>\n",
       "      <td>0.088965</td>\n",
       "      <td>0.017798</td>\n",
       "      <td>0.250000</td>\n",
       "      <td>0.201497</td>\n",
       "      <td>0.007812</td>\n",
       "      <td>0.562500</td>\n",
       "      <td>0.554688</td>\n",
       "      <td>0.247119</td>\n",
       "      <td>male</td>\n",
       "    </tr>\n",
       "    <tr>\n",
       "      <th>4</th>\n",
       "      <td>0.135120</td>\n",
       "      <td>0.079146</td>\n",
       "      <td>0.124656</td>\n",
       "      <td>0.078720</td>\n",
       "      <td>0.206045</td>\n",
       "      <td>0.127325</td>\n",
       "      <td>1.101174</td>\n",
       "      <td>4.333713</td>\n",
       "      <td>0.971955</td>\n",
       "      <td>0.783568</td>\n",
       "      <td>...</td>\n",
       "      <td>0.135120</td>\n",
       "      <td>0.106398</td>\n",
       "      <td>0.016931</td>\n",
       "      <td>0.266667</td>\n",
       "      <td>0.712812</td>\n",
       "      <td>0.007812</td>\n",
       "      <td>5.484375</td>\n",
       "      <td>5.476562</td>\n",
       "      <td>0.208274</td>\n",
       "      <td>male</td>\n",
       "    </tr>\n",
       "  </tbody>\n",
       "</table>\n",
       "<p>5 rows × 21 columns</p>\n",
       "</div>"
      ],
      "text/plain": [
       "   meanfreq        sd    median       Q25       Q75       IQR       skew  \\\n",
       "0  0.059781  0.064241  0.032027  0.015071  0.090193  0.075122  12.863462   \n",
       "1  0.066009  0.067310  0.040229  0.019414  0.092666  0.073252  22.423285   \n",
       "2  0.077316  0.083829  0.036718  0.008701  0.131908  0.123207  30.757155   \n",
       "3  0.151228  0.072111  0.158011  0.096582  0.207955  0.111374   1.232831   \n",
       "4  0.135120  0.079146  0.124656  0.078720  0.206045  0.127325   1.101174   \n",
       "\n",
       "          kurt    sp.ent       sfm  ...  centroid   meanfun    minfun  \\\n",
       "0   274.402906  0.893369  0.491918  ...  0.059781  0.084279  0.015702   \n",
       "1   634.613855  0.892193  0.513724  ...  0.066009  0.107937  0.015826   \n",
       "2  1024.927705  0.846389  0.478905  ...  0.077316  0.098706  0.015656   \n",
       "3     4.177296  0.963322  0.727232  ...  0.151228  0.088965  0.017798   \n",
       "4     4.333713  0.971955  0.783568  ...  0.135120  0.106398  0.016931   \n",
       "\n",
       "     maxfun   meandom    mindom    maxdom   dfrange   modindx  label  \n",
       "0  0.275862  0.007812  0.007812  0.007812  0.000000  0.000000   male  \n",
       "1  0.250000  0.009014  0.007812  0.054688  0.046875  0.052632   male  \n",
       "2  0.271186  0.007990  0.007812  0.015625  0.007812  0.046512   male  \n",
       "3  0.250000  0.201497  0.007812  0.562500  0.554688  0.247119   male  \n",
       "4  0.266667  0.712812  0.007812  5.484375  5.476562  0.208274   male  \n",
       "\n",
       "[5 rows x 21 columns]"
      ]
     },
     "execution_count": 4,
     "metadata": {},
     "output_type": "execute_result"
    }
   ],
   "source": [
    "df.head()"
   ]
  },
  {
   "cell_type": "code",
   "execution_count": 5,
   "id": "186fc0a4",
   "metadata": {
    "execution": {
     "iopub.execute_input": "2022-08-28T09:14:17.708023Z",
     "iopub.status.busy": "2022-08-28T09:14:17.707641Z",
     "iopub.status.idle": "2022-08-28T09:14:17.791306Z",
     "shell.execute_reply": "2022-08-28T09:14:17.790166Z"
    },
    "papermill": {
     "duration": 0.101209,
     "end_time": "2022-08-28T09:14:17.793667",
     "exception": false,
     "start_time": "2022-08-28T09:14:17.692458",
     "status": "completed"
    },
    "tags": []
   },
   "outputs": [
    {
     "data": {
      "text/html": [
       "<div>\n",
       "<style scoped>\n",
       "    .dataframe tbody tr th:only-of-type {\n",
       "        vertical-align: middle;\n",
       "    }\n",
       "\n",
       "    .dataframe tbody tr th {\n",
       "        vertical-align: top;\n",
       "    }\n",
       "\n",
       "    .dataframe thead th {\n",
       "        text-align: right;\n",
       "    }\n",
       "</style>\n",
       "<table border=\"1\" class=\"dataframe\">\n",
       "  <thead>\n",
       "    <tr style=\"text-align: right;\">\n",
       "      <th></th>\n",
       "      <th>meanfreq</th>\n",
       "      <th>sd</th>\n",
       "      <th>median</th>\n",
       "      <th>Q25</th>\n",
       "      <th>Q75</th>\n",
       "      <th>IQR</th>\n",
       "      <th>skew</th>\n",
       "      <th>kurt</th>\n",
       "      <th>sp.ent</th>\n",
       "      <th>sfm</th>\n",
       "      <th>mode</th>\n",
       "      <th>centroid</th>\n",
       "      <th>meanfun</th>\n",
       "      <th>minfun</th>\n",
       "      <th>maxfun</th>\n",
       "      <th>meandom</th>\n",
       "      <th>mindom</th>\n",
       "      <th>maxdom</th>\n",
       "      <th>dfrange</th>\n",
       "      <th>modindx</th>\n",
       "    </tr>\n",
       "  </thead>\n",
       "  <tbody>\n",
       "    <tr>\n",
       "      <th>count</th>\n",
       "      <td>3168.000000</td>\n",
       "      <td>3168.000000</td>\n",
       "      <td>3168.000000</td>\n",
       "      <td>3168.000000</td>\n",
       "      <td>3168.000000</td>\n",
       "      <td>3168.000000</td>\n",
       "      <td>3168.000000</td>\n",
       "      <td>3168.000000</td>\n",
       "      <td>3168.000000</td>\n",
       "      <td>3168.000000</td>\n",
       "      <td>3168.000000</td>\n",
       "      <td>3168.000000</td>\n",
       "      <td>3168.000000</td>\n",
       "      <td>3168.000000</td>\n",
       "      <td>3168.000000</td>\n",
       "      <td>3168.000000</td>\n",
       "      <td>3168.000000</td>\n",
       "      <td>3168.000000</td>\n",
       "      <td>3168.000000</td>\n",
       "      <td>3168.000000</td>\n",
       "    </tr>\n",
       "    <tr>\n",
       "      <th>mean</th>\n",
       "      <td>0.180907</td>\n",
       "      <td>0.057126</td>\n",
       "      <td>0.185621</td>\n",
       "      <td>0.140456</td>\n",
       "      <td>0.224765</td>\n",
       "      <td>0.084309</td>\n",
       "      <td>3.140168</td>\n",
       "      <td>36.568461</td>\n",
       "      <td>0.895127</td>\n",
       "      <td>0.408216</td>\n",
       "      <td>0.165282</td>\n",
       "      <td>0.180907</td>\n",
       "      <td>0.142807</td>\n",
       "      <td>0.036802</td>\n",
       "      <td>0.258842</td>\n",
       "      <td>0.829211</td>\n",
       "      <td>0.052647</td>\n",
       "      <td>5.047277</td>\n",
       "      <td>4.994630</td>\n",
       "      <td>0.173752</td>\n",
       "    </tr>\n",
       "    <tr>\n",
       "      <th>std</th>\n",
       "      <td>0.029918</td>\n",
       "      <td>0.016652</td>\n",
       "      <td>0.036360</td>\n",
       "      <td>0.048680</td>\n",
       "      <td>0.023639</td>\n",
       "      <td>0.042783</td>\n",
       "      <td>4.240529</td>\n",
       "      <td>134.928661</td>\n",
       "      <td>0.044980</td>\n",
       "      <td>0.177521</td>\n",
       "      <td>0.077203</td>\n",
       "      <td>0.029918</td>\n",
       "      <td>0.032304</td>\n",
       "      <td>0.019220</td>\n",
       "      <td>0.030077</td>\n",
       "      <td>0.525205</td>\n",
       "      <td>0.063299</td>\n",
       "      <td>3.521157</td>\n",
       "      <td>3.520039</td>\n",
       "      <td>0.119454</td>\n",
       "    </tr>\n",
       "    <tr>\n",
       "      <th>min</th>\n",
       "      <td>0.039363</td>\n",
       "      <td>0.018363</td>\n",
       "      <td>0.010975</td>\n",
       "      <td>0.000229</td>\n",
       "      <td>0.042946</td>\n",
       "      <td>0.014558</td>\n",
       "      <td>0.141735</td>\n",
       "      <td>2.068455</td>\n",
       "      <td>0.738651</td>\n",
       "      <td>0.036876</td>\n",
       "      <td>0.000000</td>\n",
       "      <td>0.039363</td>\n",
       "      <td>0.055565</td>\n",
       "      <td>0.009775</td>\n",
       "      <td>0.103093</td>\n",
       "      <td>0.007812</td>\n",
       "      <td>0.004883</td>\n",
       "      <td>0.007812</td>\n",
       "      <td>0.000000</td>\n",
       "      <td>0.000000</td>\n",
       "    </tr>\n",
       "    <tr>\n",
       "      <th>25%</th>\n",
       "      <td>0.163662</td>\n",
       "      <td>0.041954</td>\n",
       "      <td>0.169593</td>\n",
       "      <td>0.111087</td>\n",
       "      <td>0.208747</td>\n",
       "      <td>0.042560</td>\n",
       "      <td>1.649569</td>\n",
       "      <td>5.669547</td>\n",
       "      <td>0.861811</td>\n",
       "      <td>0.258041</td>\n",
       "      <td>0.118016</td>\n",
       "      <td>0.163662</td>\n",
       "      <td>0.116998</td>\n",
       "      <td>0.018223</td>\n",
       "      <td>0.253968</td>\n",
       "      <td>0.419828</td>\n",
       "      <td>0.007812</td>\n",
       "      <td>2.070312</td>\n",
       "      <td>2.044922</td>\n",
       "      <td>0.099766</td>\n",
       "    </tr>\n",
       "    <tr>\n",
       "      <th>50%</th>\n",
       "      <td>0.184838</td>\n",
       "      <td>0.059155</td>\n",
       "      <td>0.190032</td>\n",
       "      <td>0.140286</td>\n",
       "      <td>0.225684</td>\n",
       "      <td>0.094280</td>\n",
       "      <td>2.197101</td>\n",
       "      <td>8.318463</td>\n",
       "      <td>0.901767</td>\n",
       "      <td>0.396335</td>\n",
       "      <td>0.186599</td>\n",
       "      <td>0.184838</td>\n",
       "      <td>0.140519</td>\n",
       "      <td>0.046110</td>\n",
       "      <td>0.271186</td>\n",
       "      <td>0.765795</td>\n",
       "      <td>0.023438</td>\n",
       "      <td>4.992188</td>\n",
       "      <td>4.945312</td>\n",
       "      <td>0.139357</td>\n",
       "    </tr>\n",
       "    <tr>\n",
       "      <th>75%</th>\n",
       "      <td>0.199146</td>\n",
       "      <td>0.067020</td>\n",
       "      <td>0.210618</td>\n",
       "      <td>0.175939</td>\n",
       "      <td>0.243660</td>\n",
       "      <td>0.114175</td>\n",
       "      <td>2.931694</td>\n",
       "      <td>13.648905</td>\n",
       "      <td>0.928713</td>\n",
       "      <td>0.533676</td>\n",
       "      <td>0.221104</td>\n",
       "      <td>0.199146</td>\n",
       "      <td>0.169581</td>\n",
       "      <td>0.047904</td>\n",
       "      <td>0.277457</td>\n",
       "      <td>1.177166</td>\n",
       "      <td>0.070312</td>\n",
       "      <td>7.007812</td>\n",
       "      <td>6.992188</td>\n",
       "      <td>0.209183</td>\n",
       "    </tr>\n",
       "    <tr>\n",
       "      <th>max</th>\n",
       "      <td>0.251124</td>\n",
       "      <td>0.115273</td>\n",
       "      <td>0.261224</td>\n",
       "      <td>0.247347</td>\n",
       "      <td>0.273469</td>\n",
       "      <td>0.252225</td>\n",
       "      <td>34.725453</td>\n",
       "      <td>1309.612887</td>\n",
       "      <td>0.981997</td>\n",
       "      <td>0.842936</td>\n",
       "      <td>0.280000</td>\n",
       "      <td>0.251124</td>\n",
       "      <td>0.237636</td>\n",
       "      <td>0.204082</td>\n",
       "      <td>0.279114</td>\n",
       "      <td>2.957682</td>\n",
       "      <td>0.458984</td>\n",
       "      <td>21.867188</td>\n",
       "      <td>21.843750</td>\n",
       "      <td>0.932374</td>\n",
       "    </tr>\n",
       "  </tbody>\n",
       "</table>\n",
       "</div>"
      ],
      "text/plain": [
       "          meanfreq           sd       median          Q25          Q75  \\\n",
       "count  3168.000000  3168.000000  3168.000000  3168.000000  3168.000000   \n",
       "mean      0.180907     0.057126     0.185621     0.140456     0.224765   \n",
       "std       0.029918     0.016652     0.036360     0.048680     0.023639   \n",
       "min       0.039363     0.018363     0.010975     0.000229     0.042946   \n",
       "25%       0.163662     0.041954     0.169593     0.111087     0.208747   \n",
       "50%       0.184838     0.059155     0.190032     0.140286     0.225684   \n",
       "75%       0.199146     0.067020     0.210618     0.175939     0.243660   \n",
       "max       0.251124     0.115273     0.261224     0.247347     0.273469   \n",
       "\n",
       "               IQR         skew         kurt       sp.ent          sfm  \\\n",
       "count  3168.000000  3168.000000  3168.000000  3168.000000  3168.000000   \n",
       "mean      0.084309     3.140168    36.568461     0.895127     0.408216   \n",
       "std       0.042783     4.240529   134.928661     0.044980     0.177521   \n",
       "min       0.014558     0.141735     2.068455     0.738651     0.036876   \n",
       "25%       0.042560     1.649569     5.669547     0.861811     0.258041   \n",
       "50%       0.094280     2.197101     8.318463     0.901767     0.396335   \n",
       "75%       0.114175     2.931694    13.648905     0.928713     0.533676   \n",
       "max       0.252225    34.725453  1309.612887     0.981997     0.842936   \n",
       "\n",
       "              mode     centroid      meanfun       minfun       maxfun  \\\n",
       "count  3168.000000  3168.000000  3168.000000  3168.000000  3168.000000   \n",
       "mean      0.165282     0.180907     0.142807     0.036802     0.258842   \n",
       "std       0.077203     0.029918     0.032304     0.019220     0.030077   \n",
       "min       0.000000     0.039363     0.055565     0.009775     0.103093   \n",
       "25%       0.118016     0.163662     0.116998     0.018223     0.253968   \n",
       "50%       0.186599     0.184838     0.140519     0.046110     0.271186   \n",
       "75%       0.221104     0.199146     0.169581     0.047904     0.277457   \n",
       "max       0.280000     0.251124     0.237636     0.204082     0.279114   \n",
       "\n",
       "           meandom       mindom       maxdom      dfrange      modindx  \n",
       "count  3168.000000  3168.000000  3168.000000  3168.000000  3168.000000  \n",
       "mean      0.829211     0.052647     5.047277     4.994630     0.173752  \n",
       "std       0.525205     0.063299     3.521157     3.520039     0.119454  \n",
       "min       0.007812     0.004883     0.007812     0.000000     0.000000  \n",
       "25%       0.419828     0.007812     2.070312     2.044922     0.099766  \n",
       "50%       0.765795     0.023438     4.992188     4.945312     0.139357  \n",
       "75%       1.177166     0.070312     7.007812     6.992188     0.209183  \n",
       "max       2.957682     0.458984    21.867188    21.843750     0.932374  "
      ]
     },
     "execution_count": 5,
     "metadata": {},
     "output_type": "execute_result"
    }
   ],
   "source": [
    "df.describe()"
   ]
  },
  {
   "cell_type": "code",
   "execution_count": 6,
   "id": "cb6c4f7b",
   "metadata": {
    "execution": {
     "iopub.execute_input": "2022-08-28T09:14:17.822283Z",
     "iopub.status.busy": "2022-08-28T09:14:17.821869Z",
     "iopub.status.idle": "2022-08-28T09:14:17.840039Z",
     "shell.execute_reply": "2022-08-28T09:14:17.838873Z"
    },
    "papermill": {
     "duration": 0.035297,
     "end_time": "2022-08-28T09:14:17.842547",
     "exception": false,
     "start_time": "2022-08-28T09:14:17.807250",
     "status": "completed"
    },
    "tags": []
   },
   "outputs": [
    {
     "name": "stdout",
     "output_type": "stream",
     "text": [
      "<class 'pandas.core.frame.DataFrame'>\n",
      "RangeIndex: 3168 entries, 0 to 3167\n",
      "Data columns (total 21 columns):\n",
      " #   Column    Non-Null Count  Dtype  \n",
      "---  ------    --------------  -----  \n",
      " 0   meanfreq  3168 non-null   float64\n",
      " 1   sd        3168 non-null   float64\n",
      " 2   median    3168 non-null   float64\n",
      " 3   Q25       3168 non-null   float64\n",
      " 4   Q75       3168 non-null   float64\n",
      " 5   IQR       3168 non-null   float64\n",
      " 6   skew      3168 non-null   float64\n",
      " 7   kurt      3168 non-null   float64\n",
      " 8   sp.ent    3168 non-null   float64\n",
      " 9   sfm       3168 non-null   float64\n",
      " 10  mode      3168 non-null   float64\n",
      " 11  centroid  3168 non-null   float64\n",
      " 12  meanfun   3168 non-null   float64\n",
      " 13  minfun    3168 non-null   float64\n",
      " 14  maxfun    3168 non-null   float64\n",
      " 15  meandom   3168 non-null   float64\n",
      " 16  mindom    3168 non-null   float64\n",
      " 17  maxdom    3168 non-null   float64\n",
      " 18  dfrange   3168 non-null   float64\n",
      " 19  modindx   3168 non-null   float64\n",
      " 20  label     3168 non-null   object \n",
      "dtypes: float64(20), object(1)\n",
      "memory usage: 519.9+ KB\n"
     ]
    }
   ],
   "source": [
    "df.info()"
   ]
  },
  {
   "cell_type": "code",
   "execution_count": 7,
   "id": "97c83708",
   "metadata": {
    "execution": {
     "iopub.execute_input": "2022-08-28T09:14:17.924404Z",
     "iopub.status.busy": "2022-08-28T09:14:17.922743Z",
     "iopub.status.idle": "2022-08-28T09:14:17.936174Z",
     "shell.execute_reply": "2022-08-28T09:14:17.934515Z"
    },
    "papermill": {
     "duration": 0.03101,
     "end_time": "2022-08-28T09:14:17.938975",
     "exception": false,
     "start_time": "2022-08-28T09:14:17.907965",
     "status": "completed"
    },
    "tags": []
   },
   "outputs": [
    {
     "data": {
      "text/plain": [
       "meanfreq    0\n",
       "sd          0\n",
       "median      0\n",
       "Q25         0\n",
       "Q75         0\n",
       "IQR         0\n",
       "skew        0\n",
       "kurt        0\n",
       "sp.ent      0\n",
       "sfm         0\n",
       "mode        0\n",
       "centroid    0\n",
       "meanfun     0\n",
       "minfun      0\n",
       "maxfun      0\n",
       "meandom     0\n",
       "mindom      0\n",
       "maxdom      0\n",
       "dfrange     0\n",
       "modindx     0\n",
       "label       0\n",
       "dtype: int64"
      ]
     },
     "execution_count": 7,
     "metadata": {},
     "output_type": "execute_result"
    }
   ],
   "source": [
    "df.isnull().sum()"
   ]
  },
  {
   "cell_type": "code",
   "execution_count": 8,
   "id": "231223ae",
   "metadata": {
    "execution": {
     "iopub.execute_input": "2022-08-28T09:14:17.999459Z",
     "iopub.status.busy": "2022-08-28T09:14:17.997982Z",
     "iopub.status.idle": "2022-08-28T09:14:18.013960Z",
     "shell.execute_reply": "2022-08-28T09:14:18.012466Z"
    },
    "papermill": {
     "duration": 0.035537,
     "end_time": "2022-08-28T09:14:18.016897",
     "exception": false,
     "start_time": "2022-08-28T09:14:17.981360",
     "status": "completed"
    },
    "tags": []
   },
   "outputs": [
    {
     "data": {
      "text/plain": [
       "array([1, 0])"
      ]
     },
     "execution_count": 8,
     "metadata": {},
     "output_type": "execute_result"
    }
   ],
   "source": [
    "df.replace(to_replace=\"male\", value=1, inplace=True)\n",
    "df.replace(to_replace=\"female\", value=0, inplace=True)\n",
    "df.label.unique()"
   ]
  },
  {
   "cell_type": "code",
   "execution_count": 9,
   "id": "079f82df",
   "metadata": {
    "execution": {
     "iopub.execute_input": "2022-08-28T09:14:18.073143Z",
     "iopub.status.busy": "2022-08-28T09:14:18.072626Z",
     "iopub.status.idle": "2022-08-28T09:14:18.081334Z",
     "shell.execute_reply": "2022-08-28T09:14:18.080402Z"
    },
    "papermill": {
     "duration": 0.026145,
     "end_time": "2022-08-28T09:14:18.083631",
     "exception": false,
     "start_time": "2022-08-28T09:14:18.057486",
     "status": "completed"
    },
    "tags": []
   },
   "outputs": [
    {
     "data": {
      "text/plain": [
       "((3168, 20), (3168,))"
      ]
     },
     "execution_count": 9,
     "metadata": {},
     "output_type": "execute_result"
    }
   ],
   "source": [
    "xData=df.iloc[:,:-1]\n",
    "yData=df.iloc[:,-1]\n",
    "xData.shape, yData.shape"
   ]
  },
  {
   "cell_type": "code",
   "execution_count": 10,
   "id": "ca46998b",
   "metadata": {
    "execution": {
     "iopub.execute_input": "2022-08-28T09:14:18.114521Z",
     "iopub.status.busy": "2022-08-28T09:14:18.113323Z",
     "iopub.status.idle": "2022-08-28T09:14:18.123531Z",
     "shell.execute_reply": "2022-08-28T09:14:18.122677Z"
    },
    "papermill": {
     "duration": 0.027899,
     "end_time": "2022-08-28T09:14:18.125884",
     "exception": false,
     "start_time": "2022-08-28T09:14:18.097985",
     "status": "completed"
    },
    "tags": []
   },
   "outputs": [
    {
     "data": {
      "text/plain": [
       "((2534, 20), (2534,))"
      ]
     },
     "execution_count": 10,
     "metadata": {},
     "output_type": "execute_result"
    }
   ],
   "source": [
    "TRAINSPLIT = 0.8\n",
    "\n",
    "xTrain, xTest, yTrain, yTest = sklearn.model_selection.train_test_split(xData, yData, train_size=TRAINSPLIT)\n",
    "xTrain.shape, yTrain.shape"
   ]
  },
  {
   "cell_type": "markdown",
   "id": "27aaaede",
   "metadata": {
    "papermill": {
     "duration": 0.013926,
     "end_time": "2022-08-28T09:14:18.182284",
     "exception": false,
     "start_time": "2022-08-28T09:14:18.168358",
     "status": "completed"
    },
    "tags": []
   },
   "source": [
    "<h1 align=\"center\" ><a id='lab'><b>Distribution of labels<b></a></h1>"
   ]
  },
  {
   "cell_type": "code",
   "execution_count": 11,
   "id": "4d8237b8",
   "metadata": {
    "execution": {
     "iopub.execute_input": "2022-08-28T09:14:18.213375Z",
     "iopub.status.busy": "2022-08-28T09:14:18.212169Z",
     "iopub.status.idle": "2022-08-28T09:14:18.551757Z",
     "shell.execute_reply": "2022-08-28T09:14:18.550872Z"
    },
    "papermill": {
     "duration": 0.35806,
     "end_time": "2022-08-28T09:14:18.554676",
     "exception": false,
     "start_time": "2022-08-28T09:14:18.196616",
     "status": "completed"
    },
    "tags": []
   },
   "outputs": [
    {
     "data": {
      "image/png": "[encoded data removed]",
      "text/plain": [
       "<Figure size 1296x576 with 2 Axes>"
      ]
     },
     "metadata": {
      "needs_background": "light"
     },
     "output_type": "display_data"
    }
   ],
   "source": [
    "plt.figure(figsize=(18, 8))\n",
    "plt.subplot(1, 2, 1)\n",
    "df.label.value_counts().plot(kind=\"pie\",\n",
    "                                           fontsize=16,\n",
    "                                           labels=[\"Male\", \"Female\"],\n",
    "                                           ylabel=\"Male vs Female\",\n",
    "                                           autopct='%1.1f%%');\n",
    "\n",
    "plt.subplot(1, 2, 2)\n",
    "sns.countplot(x=\"label\",data=df, palette=\"pastel\")\n",
    "plt.show()"
   ]
  },
  {
   "cell_type": "markdown",
   "id": "eb5d4abf",
   "metadata": {
    "papermill": {
     "duration": 0.014338,
     "end_time": "2022-08-28T09:14:18.614545",
     "exception": false,
     "start_time": "2022-08-28T09:14:18.600207",
     "status": "completed"
    },
    "tags": []
   },
   "source": [
    "## **Correlation coefficient**\n",
    "\n",
    "The correlation coefficient is a statistical measure of the strength of the relationship between the relative movements of two variables. The values range between -1.0 and 1.0. A calculated number greater than 1.0 or less than -1.0 means that there was an error in the correlation measurement. A correlation of -1.0 shows a perfect negative correlation, while a correlation of 1.0 shows a perfect positive correlation. A correlation of 0.0 shows no linear relationship between the movement of the two variables."
   ]
  },
  {
   "cell_type": "code",
   "execution_count": 12,
   "id": "9f807e0c",
   "metadata": {
    "execution": {
     "iopub.execute_input": "2022-08-28T09:14:18.646469Z",
     "iopub.status.busy": "2022-08-28T09:14:18.645503Z",
     "iopub.status.idle": "2022-08-28T09:14:18.986617Z",
     "shell.execute_reply": "2022-08-28T09:14:18.985158Z"
    },
    "papermill": {
     "duration": 0.36,
     "end_time": "2022-08-28T09:14:18.989385",
     "exception": false,
     "start_time": "2022-08-28T09:14:18.629385",
     "status": "completed"
    },
    "tags": []
   },
   "outputs": [
    {
     "data": {
      "image/png": "[encoded data removed]",
      "text/plain": [
       "<Figure size 864x576 with 1 Axes>"
      ]
     },
     "metadata": {
      "needs_background": "light"
     },
     "output_type": "display_data"
    }
   ],
   "source": [
    "plt.figure(figsize=(12,8))\n",
    "data = df.corr()[\"label\"].sort_values(ascending=False)\n",
    "indices = data.index\n",
    "labels = []\n",
    "corr = []\n",
    "for i in range(1, len(indices)):\n",
    "    labels.append(indices[i])\n",
    "    corr.append(data[i])\n",
    "sns.barplot(x=corr, y=labels, palette='pastel')\n",
    "plt.title('Correlation coefficient between different features and Label')\n",
    "plt.show()"
   ]
  },
  {
   "cell_type": "markdown",
   "id": "84c8017b",
   "metadata": {
    "papermill": {
     "duration": 0.017105,
     "end_time": "2022-08-28T09:14:19.024164",
     "exception": false,
     "start_time": "2022-08-28T09:14:19.007059",
     "status": "completed"
    },
    "tags": []
   },
   "source": [
    "<h1 align=\"center\" ><a id='minfun'><b>Distribution of meanfun in our data<b></a></h1>"
   ]
  },
  {
   "cell_type": "code",
   "execution_count": 13,
   "id": "ff62a8da",
   "metadata": {
    "execution": {
     "iopub.execute_input": "2022-08-28T09:14:19.059420Z",
     "iopub.status.busy": "2022-08-28T09:14:19.058478Z",
     "iopub.status.idle": "2022-08-28T09:14:19.358198Z",
     "shell.execute_reply": "2022-08-28T09:14:19.356562Z"
    },
    "papermill": {
     "duration": 0.319807,
     "end_time": "2022-08-28T09:14:19.361063",
     "exception": false,
     "start_time": "2022-08-28T09:14:19.041256",
     "status": "completed"
    },
    "tags": []
   },
   "outputs": [
    {
     "data": {
      "image/png": "[encoded data removed]",
      "text/plain": [
       "<Figure size 1440x576 with 1 Axes>"
      ]
     },
     "metadata": {
      "needs_background": "light"
     },
     "output_type": "display_data"
    }
   ],
   "source": [
    "plt.figure(figsize=(20,8))\n",
    "sns.histplot(df.meanfun, color=sns.color_palette('pastel')[0])\n",
    "plt.show()"
   ]
  },
  {
   "cell_type": "markdown",
   "id": "01226e7c",
   "metadata": {
    "papermill": {
     "duration": 0.015921,
     "end_time": "2022-08-28T09:14:19.457316",
     "exception": false,
     "start_time": "2022-08-28T09:14:19.441395",
     "status": "completed"
    },
    "tags": []
   },
   "source": [
    "## **Logistic Regression**\n",
    "\n",
    "Logistic regression estimates the probability of an event occurring, such as voted or didn't vote, based on a given dataset of independent variables. Since the outcome is a probability, the dependent variable is bounded between 0 and 1."
   ]
  },
  {
   "cell_type": "code",
   "execution_count": 14,
   "id": "b46629c0",
   "metadata": {
    "execution": {
     "iopub.execute_input": "2022-08-28T09:14:19.491979Z",
     "iopub.status.busy": "2022-08-28T09:14:19.490938Z",
     "iopub.status.idle": "2022-08-28T09:14:19.541267Z",
     "shell.execute_reply": "2022-08-28T09:14:19.539413Z"
    },
    "papermill": {
     "duration": 0.072227,
     "end_time": "2022-08-28T09:14:19.545703",
     "exception": false,
     "start_time": "2022-08-28T09:14:19.473476",
     "status": "completed"
    },
    "tags": []
   },
   "outputs": [
    {
     "data": {
      "text/plain": [
       "0.9112075769534334"
      ]
     },
     "execution_count": 14,
     "metadata": {},
     "output_type": "execute_result"
    }
   ],
   "source": [
    "regressionModel = LogisticRegression(solver='liblinear')\n",
    "regressionModel.fit(xTrain,yTrain)\n",
    "regressionModel.score(xTrain,yTrain)"
   ]
  },
  {
   "cell_type": "markdown",
   "id": "6a661f51",
   "metadata": {
    "papermill": {
     "duration": 0.038898,
     "end_time": "2022-08-28T09:14:19.624837",
     "exception": false,
     "start_time": "2022-08-28T09:14:19.585939",
     "status": "completed"
    },
    "tags": []
   },
   "source": [
    "## **The K-nearest neighbours**\n",
    "\n",
    "The K-nearest neighbours (KNN) classifier uses proximity to make classifications or predictions about independent data points. This technique may be used for both classification and regression scenarios and the output will vary. In classification instances, a decision is made based on majority vote, i.e., the class assigned to the new data point is taken to be the one that is most frequently seen in the vicinity of the point. KNN is also known as a lazy learner technique since a model is not learned. Instead, the raw data is stored and used everytime a prediction must be made."
   ]
  },
  {
   "cell_type": "code",
   "execution_count": 15,
   "id": "04a6b138",
   "metadata": {
    "execution": {
     "iopub.execute_input": "2022-08-28T09:14:19.676780Z",
     "iopub.status.busy": "2022-08-28T09:14:19.676365Z",
     "iopub.status.idle": "2022-08-28T09:14:19.927544Z",
     "shell.execute_reply": "2022-08-28T09:14:19.926079Z"
    },
    "papermill": {
     "duration": 0.271217,
     "end_time": "2022-08-28T09:14:19.930068",
     "exception": false,
     "start_time": "2022-08-28T09:14:19.658851",
     "status": "completed"
    },
    "tags": []
   },
   "outputs": [
    {
     "data": {
      "text/plain": [
       "0.8567482241515391"
      ]
     },
     "execution_count": 15,
     "metadata": {},
     "output_type": "execute_result"
    }
   ],
   "source": [
    "KNNModel = KNeighborsClassifier(n_neighbors=3)\n",
    "KNNModel.fit(xTrain,yTrain)\n",
    "KNNModel.score(xTrain,yTrain)"
   ]
  },
  {
   "cell_type": "markdown",
   "id": "16850910",
   "metadata": {
    "papermill": {
     "duration": 0.015681,
     "end_time": "2022-08-28T09:14:19.961522",
     "exception": false,
     "start_time": "2022-08-28T09:14:19.945841",
     "status": "completed"
    },
    "tags": []
   },
   "source": [
    "## **Support Vector Classifier**\n",
    "\n",
    "Support Vector Machine or SVM is one of the most popular Supervised Learning algorithms, which is used for Classification as well as Regression problems. However, primarily, it is used for Classification problems in Machine Learning.\n",
    "\n",
    "The goal of the SVM algorithm is to create the best line or decision boundary that can segregate n-dimensional space into classes so that we can easily put the new data point in the correct category in the future. This best decision boundary is called a hyperplane. SVM chooses the extreme points/vectors that help in creating the hyperplane."
   ]
  },
  {
   "cell_type": "code",
   "execution_count": 16,
   "id": "7ace06ef",
   "metadata": {
    "execution": {
     "iopub.execute_input": "2022-08-28T09:14:19.996848Z",
     "iopub.status.busy": "2022-08-28T09:14:19.996130Z",
     "iopub.status.idle": "2022-08-28T09:14:41.111143Z",
     "shell.execute_reply": "2022-08-28T09:14:41.109580Z"
    },
    "papermill": {
     "duration": 21.13598,
     "end_time": "2022-08-28T09:14:41.114048",
     "exception": false,
     "start_time": "2022-08-28T09:14:19.978068",
     "status": "completed"
    },
    "tags": []
   },
   "outputs": [
    {
     "data": {
      "text/plain": [
       "0.9743488555643252"
      ]
     },
     "execution_count": 16,
     "metadata": {},
     "output_type": "execute_result"
    }
   ],
   "source": [
    "svmLinearModel=sklearn.svm.SVC(kernel='linear',C=10)\n",
    "svmLinearModel.fit(xTrain,yTrain)\n",
    "svmLinearModel.score(xTrain,yTrain)"
   ]
  },
  {
   "cell_type": "code",
   "execution_count": 17,
   "id": "99647363",
   "metadata": {
    "execution": {
     "iopub.execute_input": "2022-08-28T09:14:41.147299Z",
     "iopub.status.busy": "2022-08-28T09:14:41.146873Z",
     "iopub.status.idle": "2022-08-28T09:14:41.910846Z",
     "shell.execute_reply": "2022-08-28T09:14:41.909579Z"
    },
    "papermill": {
     "duration": 0.783676,
     "end_time": "2022-08-28T09:14:41.913554",
     "exception": false,
     "start_time": "2022-08-28T09:14:41.129878",
     "status": "completed"
    },
    "tags": []
   },
   "outputs": [
    {
     "data": {
      "text/plain": [
       "0.6740331491712708"
      ]
     },
     "execution_count": 17,
     "metadata": {},
     "output_type": "execute_result"
    }
   ],
   "source": [
    "svmRbfModel=sklearn.svm.SVC(kernel='rbf',C=10)\n",
    "svmRbfModel.fit(xTrain,yTrain)\n",
    "svmRbfModel.score(xTrain,yTrain)"
   ]
  },
  {
   "cell_type": "code",
   "execution_count": 18,
   "id": "531b61ed",
   "metadata": {
    "execution": {
     "iopub.execute_input": "2022-08-28T09:14:41.947512Z",
     "iopub.status.busy": "2022-08-28T09:14:41.946991Z",
     "iopub.status.idle": "2022-08-28T09:15:05.202530Z",
     "shell.execute_reply": "2022-08-28T09:15:05.200955Z"
    },
    "papermill": {
     "duration": 23.275821,
     "end_time": "2022-08-28T09:15:05.205197",
     "exception": false,
     "start_time": "2022-08-28T09:14:41.929376",
     "status": "completed"
    },
    "tags": []
   },
   "outputs": [
    {
     "data": {
      "text/plain": [
       "0.6440410418310971"
      ]
     },
     "execution_count": 18,
     "metadata": {},
     "output_type": "execute_result"
    }
   ],
   "source": [
    "svmPolyModel=sklearn.svm.SVC(kernel='poly',C=10000)\n",
    "svmPolyModel.fit(xTrain,yTrain)\n",
    "svmPolyModel.score(xTrain,yTrain)"
   ]
  },
  {
   "cell_type": "markdown",
   "id": "a9b45303",
   "metadata": {
    "papermill": {
     "duration": 0.016881,
     "end_time": "2022-08-28T09:15:05.238875",
     "exception": false,
     "start_time": "2022-08-28T09:15:05.221994",
     "status": "completed"
    },
    "tags": []
   },
   "source": [
    "## **Random forest classifier**\n",
    "\n",
    "The random forest classifier is an improvement over decision tree classifiers. Based on ensemble learning, a random forest classifier contains a number of decision trees on various subsets of the given dataset and takes the average to improve the predictive accuracy of that dataset. In general, a greater number of trees in the forest leads to higher accuracy and prevents the problem of overfitting."
   ]
  },
  {
   "cell_type": "code",
   "execution_count": 19,
   "id": "e58e1a5b",
   "metadata": {
    "execution": {
     "iopub.execute_input": "2022-08-28T09:15:05.274579Z",
     "iopub.status.busy": "2022-08-28T09:15:05.274140Z",
     "iopub.status.idle": "2022-08-28T09:15:06.000437Z",
     "shell.execute_reply": "2022-08-28T09:15:05.998924Z"
    },
    "papermill": {
     "duration": 0.747825,
     "end_time": "2022-08-28T09:15:06.003276",
     "exception": false,
     "start_time": "2022-08-28T09:15:05.255451",
     "status": "completed"
    },
    "tags": []
   },
   "outputs": [
    {
     "data": {
      "text/plain": [
       "1.0"
      ]
     },
     "execution_count": 19,
     "metadata": {},
     "output_type": "execute_result"
    }
   ],
   "source": [
    "randomFModel = RandomForestClassifier()\n",
    "randomFModel.fit(xTrain, yTrain)\n",
    "randomFModel.score(xTrain,yTrain)"
   ]
  },
  {
   "cell_type": "markdown",
   "id": "e5f3898c",
   "metadata": {
    "papermill": {
     "duration": 0.01551,
     "end_time": "2022-08-28T09:15:06.035885",
     "exception": false,
     "start_time": "2022-08-28T09:15:06.020375",
     "status": "completed"
    },
    "tags": []
   },
   "source": [
    "## **Decision tree classifier**\n",
    "\n",
    "Decision Tree is a Supervised learning technique that can be used for both classification and Regression problems, but mostly it is preferred for solving Classification problems. It is a tree-structured classifier, where internal nodes represent the features of a dataset, branches represent the decision rules and each leaf node represents the outcome."
   ]
  },
  {
   "cell_type": "code",
   "execution_count": 20,
   "id": "ac4aab75",
   "metadata": {
    "execution": {
     "iopub.execute_input": "2022-08-28T09:15:06.070338Z",
     "iopub.status.busy": "2022-08-28T09:15:06.069142Z",
     "iopub.status.idle": "2022-08-28T09:15:06.121445Z",
     "shell.execute_reply": "2022-08-28T09:15:06.120161Z"
    },
    "papermill": {
     "duration": 0.072603,
     "end_time": "2022-08-28T09:15:06.124147",
     "exception": false,
     "start_time": "2022-08-28T09:15:06.051544",
     "status": "completed"
    },
    "tags": []
   },
   "outputs": [
    {
     "data": {
      "text/plain": [
       "1.0"
      ]
     },
     "execution_count": 20,
     "metadata": {},
     "output_type": "execute_result"
    }
   ],
   "source": [
    "dTreeModel = DecisionTreeClassifier()\n",
    "dTreeModel.fit(xTrain, yTrain)\n",
    "dTreeModel.score(xTrain,yTrain)"
   ]
  },
  {
   "cell_type": "markdown",
   "id": "5a14fa2f",
   "metadata": {
    "papermill": {
     "duration": 0.016697,
     "end_time": "2022-08-28T09:15:06.158033",
     "exception": false,
     "start_time": "2022-08-28T09:15:06.141336",
     "status": "completed"
    },
    "tags": []
   },
   "source": [
    "## **Gaussian Process Classifier**\n",
    "\n",
    "The GaussianProcessClassifier implements Gaussian processes (GP) for classification purposes, more specifically for probabilistic classification, where test predictions take the form of class probabilities. GaussianProcessClassifier places a GP prior on a latent function , which is then squashed through a link function to obtain the probabilistic classification. The latent function is a so-called nuisance function, whose values are not observed and are not relevant by themselves. Its purpose is to allow a convenient formulation of the model, and is removed (integrated out) during prediction. GaussianProcessClassifier implements the logistic link function, for which the integral cannot be computed analytically but is easily approximated in the binary case."
   ]
  },
  {
   "cell_type": "code",
   "execution_count": 21,
   "id": "7199b3d7",
   "metadata": {
    "execution": {
     "iopub.execute_input": "2022-08-28T09:15:06.193209Z",
     "iopub.status.busy": "2022-08-28T09:15:06.192532Z",
     "iopub.status.idle": "2022-08-28T09:15:14.268198Z",
     "shell.execute_reply": "2022-08-28T09:15:14.266499Z"
    },
    "papermill": {
     "duration": 8.098994,
     "end_time": "2022-08-28T09:15:14.273359",
     "exception": false,
     "start_time": "2022-08-28T09:15:06.174365",
     "status": "completed"
    },
    "tags": []
   },
   "outputs": [
    {
     "data": {
      "text/plain": [
       "0.8145224940805051"
      ]
     },
     "execution_count": 21,
     "metadata": {},
     "output_type": "execute_result"
    }
   ],
   "source": [
    "gpcModel = GaussianProcessClassifier()\n",
    "gpcModel.fit(xTrain, yTrain)\n",
    "gpcModel.score(xTrain, yTrain)"
   ]
  },
  {
   "cell_type": "code",
   "execution_count": 22,
   "id": "ba35a4b9",
   "metadata": {
    "execution": {
     "iopub.execute_input": "2022-08-28T09:15:14.406688Z",
     "iopub.status.busy": "2022-08-28T09:15:14.406315Z",
     "iopub.status.idle": "2022-08-28T09:15:16.256583Z",
     "shell.execute_reply": "2022-08-28T09:15:16.254808Z"
    },
    "papermill": {
     "duration": 1.8711,
     "end_time": "2022-08-28T09:15:16.259357",
     "exception": false,
     "start_time": "2022-08-28T09:15:14.388257",
     "status": "completed"
    },
    "tags": []
   },
   "outputs": [
    {
     "data": {
      "image/png": "[encoded data removed]",
      "text/plain": [
       "<Figure size 1152x576 with 1 Axes>"
      ]
     },
     "metadata": {
      "needs_background": "light"
     },
     "output_type": "display_data"
    }
   ],
   "source": [
    "trainScores = [regressionModel.score(xTrain, yTrain), KNNModel.score(xTrain, yTrain), svmLinearModel.score(xTrain, yTrain), svmRbfModel.score(xTrain, yTrain),svmPolyModel.score(xTrain, yTrain), randomFModel.score(xTrain,yTrain), dTreeModel.score(xTrain,yTrain), gpcModel.score(xTrain, yTrain)]\n",
    "testScores = [regressionModel.score(xTest, yTest), KNNModel.score(xTest, yTest), svmLinearModel.score(xTest, yTest), svmRbfModel.score(xTest, yTest),svmPolyModel.score(xTest, yTest), randomFModel.score(xTest,yTest), dTreeModel.score(xTest,yTest), gpcModel.score(xTest, yTest)]\n",
    "indices = ['Logistic Regression', 'KNN', 'SVM-Linear', 'SVM-RBF','SVM-Poly', 'RandomForest', 'DecisionTree', 'GPC']\n",
    "scores = pd.DataFrame({'Training Score': trainScores,'Testing Score': testScores}, index=indices)\n",
    "plot = scores.plot.bar(figsize=(16, 8), rot=0, color=['#df6589ff', '#3c1053ff'])\n",
    "plt.title('Training and Testing Scores')\n",
    "plt.show()"
   ]
  },
  {
   "cell_type": "code",
   "execution_count": 23,
   "id": "1df01720",
   "metadata": {
    "execution": {
     "iopub.execute_input": "2022-08-28T09:15:16.294122Z",
     "iopub.status.busy": "2022-08-28T09:15:16.293690Z",
     "iopub.status.idle": "2022-08-28T09:15:16.306495Z",
     "shell.execute_reply": "2022-08-28T09:15:16.305195Z"
    },
    "papermill": {
     "duration": 0.0329,
     "end_time": "2022-08-28T09:15:16.308766",
     "exception": false,
     "start_time": "2022-08-28T09:15:16.275866",
     "status": "completed"
    },
    "tags": []
   },
   "outputs": [
    {
     "data": {
      "text/html": [
       "<div>\n",
       "<style scoped>\n",
       "    .dataframe tbody tr th:only-of-type {\n",
       "        vertical-align: middle;\n",
       "    }\n",
       "\n",
       "    .dataframe tbody tr th {\n",
       "        vertical-align: top;\n",
       "    }\n",
       "\n",
       "    .dataframe thead th {\n",
       "        text-align: right;\n",
       "    }\n",
       "</style>\n",
       "<table border=\"1\" class=\"dataframe\">\n",
       "  <thead>\n",
       "    <tr style=\"text-align: right;\">\n",
       "      <th></th>\n",
       "      <th>Training Score</th>\n",
       "      <th>Testing Score</th>\n",
       "    </tr>\n",
       "  </thead>\n",
       "  <tbody>\n",
       "    <tr>\n",
       "      <th>Logistic Regression</th>\n",
       "      <td>0.911208</td>\n",
       "      <td>0.922713</td>\n",
       "    </tr>\n",
       "    <tr>\n",
       "      <th>KNN</th>\n",
       "      <td>0.856748</td>\n",
       "      <td>0.730284</td>\n",
       "    </tr>\n",
       "    <tr>\n",
       "      <th>SVM-Linear</th>\n",
       "      <td>0.974349</td>\n",
       "      <td>0.963722</td>\n",
       "    </tr>\n",
       "    <tr>\n",
       "      <th>SVM-RBF</th>\n",
       "      <td>0.674033</td>\n",
       "      <td>0.733438</td>\n",
       "    </tr>\n",
       "    <tr>\n",
       "      <th>SVM-Poly</th>\n",
       "      <td>0.644041</td>\n",
       "      <td>0.662461</td>\n",
       "    </tr>\n",
       "    <tr>\n",
       "      <th>RandomForest</th>\n",
       "      <td>1.000000</td>\n",
       "      <td>0.982650</td>\n",
       "    </tr>\n",
       "    <tr>\n",
       "      <th>DecisionTree</th>\n",
       "      <td>1.000000</td>\n",
       "      <td>0.952681</td>\n",
       "    </tr>\n",
       "    <tr>\n",
       "      <th>GPC</th>\n",
       "      <td>0.814522</td>\n",
       "      <td>0.753943</td>\n",
       "    </tr>\n",
       "  </tbody>\n",
       "</table>\n",
       "</div>"
      ],
      "text/plain": [
       "                     Training Score  Testing Score\n",
       "Logistic Regression        0.911208       0.922713\n",
       "KNN                        0.856748       0.730284\n",
       "SVM-Linear                 0.974349       0.963722\n",
       "SVM-RBF                    0.674033       0.733438\n",
       "SVM-Poly                   0.644041       0.662461\n",
       "RandomForest               1.000000       0.982650\n",
       "DecisionTree               1.000000       0.952681\n",
       "GPC                        0.814522       0.753943"
      ]
     },
     "execution_count": 23,
     "metadata": {},
     "output_type": "execute_result"
    }
   ],
   "source": [
    "scores"
   ]
  },
  {
   "cell_type": "markdown",
   "id": "6c44ecfa",
   "metadata": {
    "papermill": {
     "duration": 0.016605,
     "end_time": "2022-08-28T09:15:16.341936",
     "exception": false,
     "start_time": "2022-08-28T09:15:16.325331",
     "status": "completed"
    },
    "tags": []
   },
   "source": [
    "<h1 align=\"center\" ><a id='conf'><b>Confusion Matrices 📈<b></a></h1>"
   ]
  },
  {
   "cell_type": "code",
   "execution_count": 24,
   "id": "2ea0d67a",
   "metadata": {
    "execution": {
     "iopub.execute_input": "2022-08-28T09:15:16.377741Z",
     "iopub.status.busy": "2022-08-28T09:15:16.377240Z",
     "iopub.status.idle": "2022-08-28T09:15:16.814643Z",
     "shell.execute_reply": "2022-08-28T09:15:16.812842Z"
    },
    "papermill": {
     "duration": 0.46046,
     "end_time": "2022-08-28T09:15:16.819180",
     "exception": false,
     "start_time": "2022-08-28T09:15:16.358720",
     "status": "completed"
    },
    "tags": []
   },
   "outputs": [],
   "source": [
    "predRegression = regressionModel.predict(xTest)\n",
    "predSVMLinear = svmLinearModel.predict(xTest)\n",
    "predSVMRbf = svmRbfModel.predict(xTest)\n",
    "predKNN = KNNModel.predict(xTest)\n",
    "predSVMPoly = svmPolyModel.predict(xTest)\n",
    "predRandomF = randomFModel.predict(xTest)\n",
    "predDTree = dTreeModel.predict(xTest)\n",
    "predGPC = gpcModel.predict(xTest)\n",
    "predVals = pd.DataFrame(data={'truth': yTest, 'regression': predRegression, 'knn': predKNN, 'svm-linear': predSVMLinear, 'svm-rbf': predSVMRbf, 'svm-poly': predSVMPoly, 'random-forest': predRandomF, 'decision-tree': predDTree, 'GPC': predGPC})"
   ]
  },
  {
   "cell_type": "code",
   "execution_count": 25,
   "id": "33985683",
   "metadata": {
    "execution": {
     "iopub.execute_input": "2022-08-28T09:15:16.907224Z",
     "iopub.status.busy": "2022-08-28T09:15:16.906385Z",
     "iopub.status.idle": "2022-08-28T09:15:19.155315Z",
     "shell.execute_reply": "2022-08-28T09:15:19.154117Z"
    },
    "papermill": {
     "duration": 2.295901,
     "end_time": "2022-08-28T09:15:19.157787",
     "exception": false,
     "start_time": "2022-08-28T09:15:16.861886",
     "status": "completed"
    },
    "tags": []
   },
   "outputs": [
    {
     "data": {
      "image/png": "[encoded data removed]",
      "text/plain": [
       "<Figure size 1152x1008 with 16 Axes>"
      ]
     },
     "metadata": {
      "needs_background": "light"
     },
     "output_type": "display_data"
    }
   ],
   "source": [
    "plt.figure(figsize=(16, 14))\n",
    "plt.subplot(3, 3, 1)\n",
    "sns.heatmap(sklearn.metrics.confusion_matrix(yTest, predRegression), annot=True).set(title='Logistic Regression')\n",
    "plt.subplot(3, 3, 2)\n",
    "sns.heatmap(sklearn.metrics.confusion_matrix(yTest, predKNN), annot=True).set(title='KNN')\n",
    "plt.subplot(3, 3, 3)\n",
    "sns.heatmap(sklearn.metrics.confusion_matrix(yTest, predSVMLinear), annot=True).set(title='SVM-Linear')\n",
    "plt.subplot(3, 3, 4)\n",
    "sns.heatmap(sklearn.metrics.confusion_matrix(yTest, predSVMRbf), annot=True).set(title='SVM-Rbf')\n",
    "plt.subplot(3, 3, 5)\n",
    "sns.heatmap(sklearn.metrics.confusion_matrix(yTest, predSVMPoly), annot=True).set(title='SVM-Poly')\n",
    "plt.subplot(3, 3, 6)\n",
    "sns.heatmap(sklearn.metrics.confusion_matrix(yTest, predRandomF), annot=True).set(title='Random Forest')\n",
    "plt.subplot(3, 3, 7)\n",
    "sns.heatmap(sklearn.metrics.confusion_matrix(yTest, predDTree), annot=True).set(title='Decision Tree')\n",
    "plt.subplot(3, 3, 8)\n",
    "sns.heatmap(sklearn.metrics.confusion_matrix(yTest, predGPC), annot=True).set(title='GPC')\n",
    "plt.suptitle('Confusion matrices')\n",
    "plt.show()"
   ]
  },
  {
   "cell_type": "markdown",
   "id": "d22a0774",
   "metadata": {
    "papermill": {
     "duration": 0.022431,
     "end_time": "2022-08-28T09:15:19.199108",
     "exception": false,
     "start_time": "2022-08-28T09:15:19.176677",
     "status": "completed"
    },
    "tags": []
   },
   "source": [
    "<h1 align=\"center\" ><a id='classif'><b>Classification reports<b></a></h1>"
   ]
  },
  {
   "cell_type": "code",
   "execution_count": 26,
   "id": "6cd465ae",
   "metadata": {
    "execution": {
     "iopub.execute_input": "2022-08-28T09:15:19.252256Z",
     "iopub.status.busy": "2022-08-28T09:15:19.251699Z",
     "iopub.status.idle": "2022-08-28T09:15:19.264919Z",
     "shell.execute_reply": "2022-08-28T09:15:19.264133Z"
    },
    "papermill": {
     "duration": 0.047024,
     "end_time": "2022-08-28T09:15:19.268236",
     "exception": false,
     "start_time": "2022-08-28T09:15:19.221212",
     "status": "completed"
    },
    "tags": []
   },
   "outputs": [
    {
     "name": "stdout",
     "output_type": "stream",
     "text": [
      "Logistic Regression:\n",
      "\n",
      "               precision    recall  f1-score   support\n",
      "\n",
      "           0       0.98      0.86      0.92       311\n",
      "           1       0.88      0.98      0.93       323\n",
      "\n",
      "    accuracy                           0.92       634\n",
      "   macro avg       0.93      0.92      0.92       634\n",
      "weighted avg       0.93      0.92      0.92       634\n",
      "\n"
     ]
    }
   ],
   "source": [
    "print(\"Logistic Regression:\\n\\n\", sklearn.metrics.classification_report(yTest, predRegression))"
   ]
  },
  {
   "cell_type": "code",
   "execution_count": 27,
   "id": "42ebee7a",
   "metadata": {
    "execution": {
     "iopub.execute_input": "2022-08-28T09:15:19.322349Z",
     "iopub.status.busy": "2022-08-28T09:15:19.321238Z",
     "iopub.status.idle": "2022-08-28T09:15:19.334826Z",
     "shell.execute_reply": "2022-08-28T09:15:19.333175Z"
    },
    "papermill": {
     "duration": 0.048328,
     "end_time": "2022-08-28T09:15:19.338015",
     "exception": false,
     "start_time": "2022-08-28T09:15:19.289687",
     "status": "completed"
    },
    "tags": []
   },
   "outputs": [
    {
     "name": "stdout",
     "output_type": "stream",
     "text": [
      "KNN:\n",
      "\n",
      "               precision    recall  f1-score   support\n",
      "\n",
      "           0       0.73      0.71      0.72       311\n",
      "           1       0.73      0.75      0.74       323\n",
      "\n",
      "    accuracy                           0.73       634\n",
      "   macro avg       0.73      0.73      0.73       634\n",
      "weighted avg       0.73      0.73      0.73       634\n",
      "\n"
     ]
    }
   ],
   "source": [
    "print(\"KNN:\\n\\n\", sklearn.metrics.classification_report(yTest, predKNN))"
   ]
  },
  {
   "cell_type": "code",
   "execution_count": 28,
   "id": "ec9c2a81",
   "metadata": {
    "execution": {
     "iopub.execute_input": "2022-08-28T09:15:19.377970Z",
     "iopub.status.busy": "2022-08-28T09:15:19.377479Z",
     "iopub.status.idle": "2022-08-28T09:15:19.390904Z",
     "shell.execute_reply": "2022-08-28T09:15:19.389458Z"
    },
    "papermill": {
     "duration": 0.037216,
     "end_time": "2022-08-28T09:15:19.394419",
     "exception": false,
     "start_time": "2022-08-28T09:15:19.357203",
     "status": "completed"
    },
    "tags": []
   },
   "outputs": [
    {
     "name": "stdout",
     "output_type": "stream",
     "text": [
      "SVM with linear kernel:\n",
      "\n",
      "               precision    recall  f1-score   support\n",
      "\n",
      "           0       0.97      0.95      0.96       311\n",
      "           1       0.95      0.98      0.96       323\n",
      "\n",
      "    accuracy                           0.96       634\n",
      "   macro avg       0.96      0.96      0.96       634\n",
      "weighted avg       0.96      0.96      0.96       634\n",
      "\n"
     ]
    }
   ],
   "source": [
    "print(\"SVM with linear kernel:\\n\\n\", sklearn.metrics.classification_report(yTest, predSVMLinear))"
   ]
  },
  {
   "cell_type": "code",
   "execution_count": 29,
   "id": "174d8717",
   "metadata": {
    "execution": {
     "iopub.execute_input": "2022-08-28T09:15:19.433838Z",
     "iopub.status.busy": "2022-08-28T09:15:19.433421Z",
     "iopub.status.idle": "2022-08-28T09:15:19.447871Z",
     "shell.execute_reply": "2022-08-28T09:15:19.446114Z"
    },
    "papermill": {
     "duration": 0.038344,
     "end_time": "2022-08-28T09:15:19.451545",
     "exception": false,
     "start_time": "2022-08-28T09:15:19.413201",
     "status": "completed"
    },
    "tags": []
   },
   "outputs": [
    {
     "name": "stdout",
     "output_type": "stream",
     "text": [
      "SVM with RBF kernel:\n",
      "\n",
      "               precision    recall  f1-score   support\n",
      "\n",
      "           0       0.75      0.68      0.72       311\n",
      "           1       0.72      0.78      0.75       323\n",
      "\n",
      "    accuracy                           0.73       634\n",
      "   macro avg       0.74      0.73      0.73       634\n",
      "weighted avg       0.73      0.73      0.73       634\n",
      "\n"
     ]
    }
   ],
   "source": [
    "print(\"SVM with RBF kernel:\\n\\n\", sklearn.metrics.classification_report(yTest, predSVMRbf))"
   ]
  },
  {
   "cell_type": "code",
   "execution_count": 30,
   "id": "d13e5412",
   "metadata": {
    "execution": {
     "iopub.execute_input": "2022-08-28T09:15:19.493397Z",
     "iopub.status.busy": "2022-08-28T09:15:19.491709Z",
     "iopub.status.idle": "2022-08-28T09:15:19.504870Z",
     "shell.execute_reply": "2022-08-28T09:15:19.503193Z"
    },
    "papermill": {
     "duration": 0.036049,
     "end_time": "2022-08-28T09:15:19.507262",
     "exception": false,
     "start_time": "2022-08-28T09:15:19.471213",
     "status": "completed"
    },
    "tags": []
   },
   "outputs": [
    {
     "name": "stdout",
     "output_type": "stream",
     "text": [
      "SVM with poly kernel:\n",
      "\n",
      "               precision    recall  f1-score   support\n",
      "\n",
      "           0       0.83      0.40      0.53       311\n",
      "           1       0.61      0.92      0.74       323\n",
      "\n",
      "    accuracy                           0.66       634\n",
      "   macro avg       0.72      0.66      0.63       634\n",
      "weighted avg       0.72      0.66      0.64       634\n",
      "\n"
     ]
    }
   ],
   "source": [
    "print(\"SVM with poly kernel:\\n\\n\", sklearn.metrics.classification_report(yTest, predSVMPoly))"
   ]
  },
  {
   "cell_type": "code",
   "execution_count": 31,
   "id": "7387d800",
   "metadata": {
    "execution": {
     "iopub.execute_input": "2022-08-28T09:15:19.546573Z",
     "iopub.status.busy": "2022-08-28T09:15:19.545531Z",
     "iopub.status.idle": "2022-08-28T09:15:19.559207Z",
     "shell.execute_reply": "2022-08-28T09:15:19.557400Z"
    },
    "papermill": {
     "duration": 0.037026,
     "end_time": "2022-08-28T09:15:19.562607",
     "exception": false,
     "start_time": "2022-08-28T09:15:19.525581",
     "status": "completed"
    },
    "tags": []
   },
   "outputs": [
    {
     "name": "stdout",
     "output_type": "stream",
     "text": [
      "Random Forest:\n",
      "\n",
      "               precision    recall  f1-score   support\n",
      "\n",
      "           0       0.98      0.98      0.98       311\n",
      "           1       0.98      0.98      0.98       323\n",
      "\n",
      "    accuracy                           0.98       634\n",
      "   macro avg       0.98      0.98      0.98       634\n",
      "weighted avg       0.98      0.98      0.98       634\n",
      "\n"
     ]
    }
   ],
   "source": [
    "print(\"Random Forest:\\n\\n\", sklearn.metrics.classification_report(yTest, predRandomF))"
   ]
  },
  {
   "cell_type": "code",
   "execution_count": 32,
   "id": "67fc001b",
   "metadata": {
    "execution": {
     "iopub.execute_input": "2022-08-28T09:15:19.603606Z",
     "iopub.status.busy": "2022-08-28T09:15:19.602701Z",
     "iopub.status.idle": "2022-08-28T09:15:19.615378Z",
     "shell.execute_reply": "2022-08-28T09:15:19.613975Z"
    },
    "papermill": {
     "duration": 0.036823,
     "end_time": "2022-08-28T09:15:19.618510",
     "exception": false,
     "start_time": "2022-08-28T09:15:19.581687",
     "status": "completed"
    },
    "tags": []
   },
   "outputs": [
    {
     "name": "stdout",
     "output_type": "stream",
     "text": [
      "Decision Tree:\n",
      "\n",
      "               precision    recall  f1-score   support\n",
      "\n",
      "           0       0.95      0.95      0.95       311\n",
      "           1       0.95      0.95      0.95       323\n",
      "\n",
      "    accuracy                           0.95       634\n",
      "   macro avg       0.95      0.95      0.95       634\n",
      "weighted avg       0.95      0.95      0.95       634\n",
      "\n"
     ]
    }
   ],
   "source": [
    "print(\"Decision Tree:\\n\\n\", sklearn.metrics.classification_report(yTest, predDTree))"
   ]
  },
  {
   "cell_type": "code",
   "execution_count": 33,
   "id": "0560ff7b",
   "metadata": {
    "execution": {
     "iopub.execute_input": "2022-08-28T09:15:19.658670Z",
     "iopub.status.busy": "2022-08-28T09:15:19.658161Z",
     "iopub.status.idle": "2022-08-28T09:15:19.672885Z",
     "shell.execute_reply": "2022-08-28T09:15:19.671992Z"
    },
    "papermill": {
     "duration": 0.038471,
     "end_time": "2022-08-28T09:15:19.675694",
     "exception": false,
     "start_time": "2022-08-28T09:15:19.637223",
     "status": "completed"
    },
    "tags": []
   },
   "outputs": [
    {
     "name": "stdout",
     "output_type": "stream",
     "text": [
      "Decision Tree:\n",
      "\n",
      "               precision    recall  f1-score   support\n",
      "\n",
      "           0       0.75      0.74      0.75       311\n",
      "           1       0.75      0.77      0.76       323\n",
      "\n",
      "    accuracy                           0.75       634\n",
      "   macro avg       0.75      0.75      0.75       634\n",
      "weighted avg       0.75      0.75      0.75       634\n",
      "\n"
     ]
    }
   ],
   "source": [
    "print(\"Decision Tree:\\n\\n\", sklearn.metrics.classification_report(yTest, predGPC))"
   ]
  },
  {
   "cell_type": "markdown",
   "id": "3ed8d75b",
   "metadata": {
    "papermill": {
     "duration": 0.019595,
     "end_time": "2022-08-28T09:15:19.715590",
     "exception": false,
     "start_time": "2022-08-28T09:15:19.695995",
     "status": "completed"
    },
    "tags": []
   },
   "source": [
    "# **Overview of predictions**"
   ]
  },
  {
   "cell_type": "code",
   "execution_count": 34,
   "id": "17b1e5b7",
   "metadata": {
    "execution": {
     "iopub.execute_input": "2022-08-28T09:15:19.756789Z",
     "iopub.status.busy": "2022-08-28T09:15:19.755737Z",
     "iopub.status.idle": "2022-08-28T09:15:19.771409Z",
     "shell.execute_reply": "2022-08-28T09:15:19.769481Z"
    },
    "papermill": {
     "duration": 0.039902,
     "end_time": "2022-08-28T09:15:19.774292",
     "exception": false,
     "start_time": "2022-08-28T09:15:19.734390",
     "status": "completed"
    },
    "tags": []
   },
   "outputs": [
    {
     "data": {
      "text/html": [
       "<div>\n",
       "<style scoped>\n",
       "    .dataframe tbody tr th:only-of-type {\n",
       "        vertical-align: middle;\n",
       "    }\n",
       "\n",
       "    .dataframe tbody tr th {\n",
       "        vertical-align: top;\n",
       "    }\n",
       "\n",
       "    .dataframe thead th {\n",
       "        text-align: right;\n",
       "    }\n",
       "</style>\n",
       "<table border=\"1\" class=\"dataframe\">\n",
       "  <thead>\n",
       "    <tr style=\"text-align: right;\">\n",
       "      <th></th>\n",
       "      <th>truth</th>\n",
       "      <th>regression</th>\n",
       "      <th>knn</th>\n",
       "      <th>svm-linear</th>\n",
       "      <th>svm-rbf</th>\n",
       "      <th>svm-poly</th>\n",
       "      <th>random-forest</th>\n",
       "      <th>decision-tree</th>\n",
       "      <th>GPC</th>\n",
       "    </tr>\n",
       "  </thead>\n",
       "  <tbody>\n",
       "    <tr>\n",
       "      <th>2494</th>\n",
       "      <td>0</td>\n",
       "      <td>0</td>\n",
       "      <td>0</td>\n",
       "      <td>0</td>\n",
       "      <td>0</td>\n",
       "      <td>0</td>\n",
       "      <td>0</td>\n",
       "      <td>0</td>\n",
       "      <td>0</td>\n",
       "    </tr>\n",
       "    <tr>\n",
       "      <th>2691</th>\n",
       "      <td>0</td>\n",
       "      <td>0</td>\n",
       "      <td>0</td>\n",
       "      <td>0</td>\n",
       "      <td>0</td>\n",
       "      <td>0</td>\n",
       "      <td>0</td>\n",
       "      <td>0</td>\n",
       "      <td>0</td>\n",
       "    </tr>\n",
       "    <tr>\n",
       "      <th>1844</th>\n",
       "      <td>0</td>\n",
       "      <td>0</td>\n",
       "      <td>1</td>\n",
       "      <td>0</td>\n",
       "      <td>0</td>\n",
       "      <td>1</td>\n",
       "      <td>0</td>\n",
       "      <td>0</td>\n",
       "      <td>1</td>\n",
       "    </tr>\n",
       "    <tr>\n",
       "      <th>2580</th>\n",
       "      <td>0</td>\n",
       "      <td>0</td>\n",
       "      <td>1</td>\n",
       "      <td>0</td>\n",
       "      <td>0</td>\n",
       "      <td>0</td>\n",
       "      <td>0</td>\n",
       "      <td>0</td>\n",
       "      <td>0</td>\n",
       "    </tr>\n",
       "    <tr>\n",
       "      <th>806</th>\n",
       "      <td>1</td>\n",
       "      <td>1</td>\n",
       "      <td>1</td>\n",
       "      <td>1</td>\n",
       "      <td>1</td>\n",
       "      <td>1</td>\n",
       "      <td>1</td>\n",
       "      <td>1</td>\n",
       "      <td>1</td>\n",
       "    </tr>\n",
       "  </tbody>\n",
       "</table>\n",
       "</div>"
      ],
      "text/plain": [
       "      truth  regression  knn  svm-linear  svm-rbf  svm-poly  random-forest  \\\n",
       "2494      0           0    0           0        0         0              0   \n",
       "2691      0           0    0           0        0         0              0   \n",
       "1844      0           0    1           0        0         1              0   \n",
       "2580      0           0    1           0        0         0              0   \n",
       "806       1           1    1           1        1         1              1   \n",
       "\n",
       "      decision-tree  GPC  \n",
       "2494              0    0  \n",
       "2691              0    0  \n",
       "1844              0    1  \n",
       "2580              0    0  \n",
       "806               1    1  "
      ]
     },
     "execution_count": 34,
     "metadata": {},
     "output_type": "execute_result"
    }
   ],
   "source": [
    "predVals.head()"
   ]
  },
  {
   "cell_type": "markdown",
   "id": "cbdb6e91",
   "metadata": {
    "papermill": {
     "duration": 0.019363,
     "end_time": "2022-08-28T09:15:19.852180",
     "exception": false,
     "start_time": "2022-08-28T09:15:19.832817",
     "status": "completed"
    },
    "tags": []
   },
   "source": [
    "Based on analysis, we can conclude that the Random forest classifier is best-suited for classification"
   ]
  },
  {
   "cell_type": "code",
   "execution_count": null,
   "id": "f24bbe04",
   "metadata": {},
   "outputs": [],
   "source": []
  }
 ],
 "metadata": {
  "kernelspec": {
   "display_name": "Python 3 (ipykernel)",
   "language": "python",
   "name": "python3"
  },
  "language_info": {
   "codemirror_mode": {
    "name": "ipython",
    "version": 3
   },
   "file_extension": ".py",
   "mimetype": "text/x-python",
   "name": "python",
   "nbconvert_exporter": "python",
   "pygments_lexer": "ipython3",
   "version": "3.11.4"
  },
  "papermill": {
   "default_parameters": {},
   "duration": 76.016161,
   "end_time": "2022-08-28T09:15:21.098280",
   "environment_variables": {},
   "exception": null,
   "input_path": "__notebook__.ipynb",
   "output_path": "__notebook__.ipynb",
   "parameters": {},
   "start_time": "2022-08-28T09:14:05.082119",
   "version": "2.3.4"
  }
 },
 "nbformat": 4,
 "nbformat_minor": 5
}
